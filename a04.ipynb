{
 "cells": [
  {
   "cell_type": "markdown",
   "metadata": {},
   "source": [
    "# Assignment 4: Inverse Matrix"
   ]
  },
  {
   "cell_type": "markdown",
   "metadata": {},
   "source": [
    "The main objective of the assignment is to find the inverse matrix by using two different approaches:LU decomposition and with the function $inv$ from library numpy.linalg."
   ]
  },
  {
   "cell_type": "code",
   "execution_count": 1,
   "metadata": {},
   "outputs": [],
   "source": [
    "import random as rn\n",
    "import numpy as np\n",
    "from numpy import dot\n",
    "import time as tm\n",
    "from numpy.linalg import inv, norm,cond"
   ]
  },
  {
   "cell_type": "markdown",
   "metadata": {},
   "source": [
    "Firstly, a square matrix A was created with 20 rows and columns was created using the random function from library random using random generator $seed$. Due to the fact that each time the value of $seed$ changes, it had to be provided in the code as: 1519046646. "
   ]
  },
  {
   "cell_type": "code",
   "execution_count": 2,
   "metadata": {
    "scrolled": true
   },
   "outputs": [],
   "source": [
    "SEED = int(tm.time())\n",
    "rn.seed(1519046646)\n",
    "n=20\n",
    "a=np.zeros((n,n),float)\n",
    "for i in range(n):\n",
    "    for j in range(n):\n",
    "        a[i,j]=rn.random()\n",
    "n=20\n",
    "    #identity matrix with dimensions 20x20    \n",
    "b=np.zeros((n,n),float)\n",
    "b=np.identity(n)\n",
    "    #initializing matrices x, D, L, U as 2-D arrays:\n",
    "x=np.zeros((n,n),float)    \n",
    "D=np.zeros((n,n),float)\n",
    "L=np.zeros((n,n),float)    \n",
    "U = np.zeros((n,n),float)"
   ]
  },
  {
   "cell_type": "markdown",
   "metadata": {},
   "source": [
    "Firstly, two matrices L and U were found using LU decomposition with pivoting.\n",
    "Then, the function was constructed for calculating $X$ for general case: $AX=B$. In our case, X - inverse matrix to be determined, B - identity matrix. "
   ]
  },
  {
   "cell_type": "code",
   "execution_count": 4,
   "metadata": {},
   "outputs": [],
   "source": [
    "def inverseLU(A):    \n",
    "    for i in range(0,n):\n",
    "        for k in range(i,n):\n",
    "            sum=0\n",
    "            for j in range(0,i):\n",
    "                sum+=(L[i][j]*U[j][k])\n",
    "            U[i][k]=A[i][k]-sum\n",
    "        for k in range(i,n):\n",
    "            if(i==k):\n",
    "                L[i][i]=1\n",
    "            else:\n",
    "                sum=0\n",
    "                for j in range(0,i):\n",
    "                    sum+=L[k][j]*U[j][i]\n",
    "                L[k][i]=(A[k][i]-sum)/U[i][i]\n",
    "    #pivoting\n",
    "    for k in range(i+1, n): \n",
    "        if(abs(U[k][i]) > maximum):\n",
    "            maximum = abs(U[k][i]) \n",
    "            m = k        \n",
    "        for k in range(i, n): \n",
    "            temp=U[m][k]\n",
    "            U[m][k]=U[i][k]\n",
    "            U[i][k]=temp\n",
    "    # subtracting lines\n",
    "        for k in range(i+1,n):\n",
    "            f = -U[k][i]/float(U[i][i])\n",
    "            L[k][i] = f                   #used to store multiplier\n",
    "            for j in range(i, n):\n",
    "                U[k][j] += f*U[i][j] \n",
    "        #making zero below\n",
    "        for j in range(k+1, n):\n",
    "            U[j][k]=0\n",
    "                   \n",
    "    #Forward substitution LD=b        \n",
    "    for i in range(0,n):\n",
    "        D[i] = b[i]/float(L[i][i])\n",
    "        for k in range(0,i,1):\n",
    "            D[i] -= D[k]*A[i][k]\n",
    "    #Backward substitution Ux=D\n",
    "    for i in range(n-1,-1,-1):\n",
    "        x[i] = D[i]/float(U[i][i])\n",
    "        for k in range (i-1,-1,-1):\n",
    "            U[i] -= x[i]*U[i][k]\n",
    "    return x   #returns inverse matrix"
   ]
  },
  {
   "cell_type": "markdown",
   "metadata": {},
   "source": [
    "The accuracy of the value was estimated by finding residual: $$R=|I-AX|$$. Where I is identity matrix with 20 rows and columns. X - calculated value of the inverse. "
   ]
  },
  {
   "cell_type": "code",
   "execution_count": 5,
   "metadata": {},
   "outputs": [
    {
     "name": "stdout",
     "output_type": "stream",
     "text": [
      "Residual: 12.4970611166\n",
      "19.3928920769\n"
     ]
    }
   ],
   "source": [
    "r=norm(b-a*x)\n",
    "print(\"Residual:\", r)\n",
    "print(norm(x))"
   ]
  },
  {
   "cell_type": "markdown",
   "metadata": {},
   "source": [
    "Condition number was calculated by the following formula: $$Cond[A]=|A|*|A^{-1}|$$"
   ]
  },
  {
   "cell_type": "code",
   "execution_count": 8,
   "metadata": {},
   "outputs": [
    {
     "name": "stdout",
     "output_type": "stream",
     "text": [
      "218.793930405\n"
     ]
    }
   ],
   "source": [
    "condnumber=norm(a)*norm(x)\n",
    "print(condnumber)"
   ]
  },
  {
   "cell_type": "markdown",
   "metadata": {},
   "source": [
    "The condition number can also be verified by following formula:\n",
    "$$|\\frac{\\delta{x}}{x}|\\leq*Cond[A]\\|\\frac{\\delta{A}}{A}|$$"
   ]
  },
  {
   "cell_type": "code",
   "execution_count": 9,
   "metadata": {},
   "outputs": [
    {
     "name": "stdout",
     "output_type": "stream",
     "text": [
      "28.4 µs ± 1.29 µs per loop (mean ± std. dev. of 7 runs, 10000 loops each)\n"
     ]
    }
   ],
   "source": [
    "%timeit   ainv = inv(a)"
   ]
  },
  {
   "cell_type": "code",
   "execution_count": 10,
   "metadata": {
    "scrolled": false
   },
   "outputs": [
    {
     "name": "stdout",
     "output_type": "stream",
     "text": [
      "5.61 ms ± 118 µs per loop (mean ± std. dev. of 7 runs, 100 loops each)\n"
     ]
    }
   ],
   "source": [
    "%timeit    inverseLU(a)"
   ]
  },
  {
   "cell_type": "markdown",
   "metadata": {},
   "source": [
    "                                                Conclusion:\n",
    "Finally, the objective of the experiment was achieved. The inverse matrix was found by using LU decomposition with pivoting. However, due to the pivoting, the inverse matrix was different from that which was obtained by built-in function. \n",
    "It can be seen that the residual was equal to about 12.49. However, it cannot indicate whether the system is well-conditioned or not. Next, condition number was equal to approximately 218.79. Since, the well-conditioning is a relative term, there are no particular values that identify the limits of ill-conditioning or well-conditioning of the system. It turned out that the system is consistent, if we get the multiplication within the precision $10^{-16}$. \n",
    "Considering the computational efficiency of the implementation and the function $inv$, it can be seen that built-in function is much faster than the implementation above. The difference can be explained by very highly optimized implementation. So, the algorithm behind this function is same, while implementation is different. \n"
   ]
  }
 ],
 "metadata": {
  "kernelspec": {
   "display_name": "Python 3",
   "language": "python",
   "name": "python3"
  },
  "language_info": {
   "codemirror_mode": {
    "name": "ipython",
    "version": 3
   },
   "file_extension": ".py",
   "mimetype": "text/x-python",
   "name": "python",
   "nbconvert_exporter": "python",
   "pygments_lexer": "ipython3",
   "version": "3.9.1"
  }
 },
 "nbformat": 4,
 "nbformat_minor": 2
}
