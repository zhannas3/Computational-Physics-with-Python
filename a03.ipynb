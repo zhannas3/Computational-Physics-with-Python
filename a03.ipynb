{
 "cells": [
  {
   "cell_type": "markdown",
   "metadata": {},
   "source": [
    "# Assignment 3. Numerical Root-finding"
   ]
  },
  {
   "cell_type": "markdown",
   "metadata": {},
   "source": [
    "This assignment is based on the investigation of the methods which are designed to find the root of the equation which has only one root. Particularly, the root of the equation will be estimated through graphical, two bracketing methods: bisection and false-position and two open methods: fixed-point iteration and Newton-Raphson. "
   ]
  },
  {
   "cell_type": "code",
   "execution_count": null,
   "metadata": {},
   "outputs": [],
   "source": [
    "import matplotlib.pyplot as plt\n",
    "import numpy as np\n",
    "%matplotlib inline\n",
    "%config InlineBackend.figure_format = 'retina'"
   ]
  },
  {
   "cell_type": "markdown",
   "metadata": {},
   "source": [
    "In order to apply those mentioned methods we have to first find some additional functions. We are given the equation: \n",
    "                                    $$f(x)=2sin(\\sqrt{x})-x+1$$\n",
    "Moreover, we also need the derivative of this function:\n",
    "                                    $$df(x)=\\frac{cos(\\sqrt{x})}{\\sqrt{x}}-1$$\n",
    "In addition, we have to define new function $g(x)$ that is needed for fixed point iteration method:\n",
    "                                    $$g(x)=2sin(\\sqrt{x})+1$$\n",
    "Lastly, derivative of $g(x)$:\n",
    "                                    $$dg(x)=\\frac{cos(\\sqrt{x})}{\\sqrt{x}}$$"
   ]
  },
  {
   "cell_type": "code",
   "execution_count": null,
   "metadata": {},
   "outputs": [],
   "source": [
    "def f(x):\n",
    "    return 2*np.sin(np.sqrt(x))-x+1\n",
    "def df(x):\n",
    "    return (np.cos(np.sqrt(x)))/(np.sqrt(x))-1\n",
    "def g(x):\n",
    "    return 2*np.sin(np.sqrt(x))+1\n",
    "def dg(f):\n",
    "    return (np.cos(np.sqrt(x)))/(np.sqrt(x))"
   ]
  },
  {
   "cell_type": "markdown",
   "metadata": {},
   "source": [
    "Secondly, we need to have some idea about the location of the root. Therefore, by plotting the graph of the function, we can estimate the interval where the root is located. "
   ]
  },
  {
   "cell_type": "markdown",
   "metadata": {},
   "source": [
    "### Part 1) "
   ]
  },
  {
   "cell_type": "code",
   "execution_count": null,
   "metadata": {
    "scrolled": true
   },
   "outputs": [],
   "source": [
    "x=np.arange(0,3.5,0.1)\n",
    "plt.plot(x,f(x),label=\"$f(x)=2sin(\\sqrt{x})-x+1$\")\n",
    "plt.xlabel(\"x axis\")\n",
    "plt.ylabel(\"y axis\")\n",
    "plt.legend()\n",
    "plt.grid()\n",
    "plt.show()"
   ]
  },
  {
   "cell_type": "markdown",
   "metadata": {},
   "source": [
    "From the graphical method, it can be seen that the root of the equation\n",
    "                                        $$f(x)=2sin(\\sqrt{x})-x+1$$\n",
    "is located at around x=2.9. However, in order to accurately estimate it, we will use two bracketing methods and two open methods. "
   ]
  },
  {
   "cell_type": "markdown",
   "metadata": {},
   "source": [
    "### Part 2) "
   ]
  },
  {
   "cell_type": "code",
   "execution_count": null,
   "metadata": {},
   "outputs": [],
   "source": [
    "def bisection(x_l,x_u,pres):\n",
    "    x_r=0.0\n",
    "    x=[]\n",
    "    e=[]\n",
    "    n=[]\n",
    "    i=0\n",
    "    while i<100:\n",
    "        x_oldr=x_r\n",
    "        x_r=(x_l+x_u)/2         #estimate root\n",
    "        if (x_r != 0.0):\n",
    "            ea=abs((x_r-x_oldr)/x_r)\n",
    "            n.append(i) \n",
    "            x.append(x_r) \n",
    "            e.append(ea)\n",
    "            test=f(x_l)*f(x_r)  #test to determine in which subinterval the root lies\n",
    "        if (test<0.0):\n",
    "            x_u=x_r\n",
    "        elif (test>0.0):\n",
    "            x_l=x_r\n",
    "        else:\n",
    "            ea=0.0\n",
    "        if (ea<pres):\n",
    "            break\n",
    "        i=i+1   \n",
    "    return n,x,e"
   ]
  },
  {
   "cell_type": "markdown",
   "metadata": {},
   "source": [
    "It can be seen that the first step in bisection is to guess two values of the unknown that gives values with different signs for the function. Therefore $f(x_l)f(x_u)<0$ must be true. In this case, the lower point is 0 and upper bound is 5. An estimate of the root is determined by $$x_r=0.5(x_l+x_u)$$. We can define three possible conditions \n",
    "$f(x_l)f(x_r)<0$, $x_u=x_r$; $f(x_l)f(x_r)>0$, $x_l=x_r$, $f(x_l)f(x_r)=0$, we found the root. Where $x_l$ is lower guess, $x_u$ is upper guess and $x_r$ is a root. \n",
    "It can be seen that in order to obtain the result in $10^{-10}$ precision, we need 34 iterations."
   ]
  },
  {
   "cell_type": "markdown",
   "metadata": {},
   "source": [
    "In order to calculate the maximum precision that can be achieved with Bisection method, we will declare the error to be less than $1*10^{-16}$ since Python can show 16 digits after decimal point. It was found by finding the minimum value of the error in the list. So, it turned out that it is equal to $4.4769*10^{-16}$"
   ]
  },
  {
   "cell_type": "code",
   "execution_count": null,
   "metadata": {},
   "outputs": [],
   "source": [
    "def bisectionPres(x_l,x_u):    #finds maximum precision\n",
    "    x_r=0.0\n",
    "    x=[]\n",
    "    e=[]\n",
    "    n=[]\n",
    "    i=0\n",
    "    while i<100:\n",
    "        x_oldr=x_r\n",
    "        x_r=(x_l+x_u)/2         #estimate root\n",
    "        if (x_r != 0.0):\n",
    "            ea=abs((x_r-x_oldr)/x_r) \n",
    "            n.append(i) \n",
    "            x.append(x_r) \n",
    "            e.append(ea)\n",
    "            test=f(x_l)*f(x_r)  #test to determine in which subinterval the root lies\n",
    "        if (test<0.0):\n",
    "            x_u=x_r\n",
    "        elif (test>0.0):\n",
    "            x_l=x_r\n",
    "        else:\n",
    "            ea=0.0\n",
    "        if (ea<1e-16):\n",
    "            break\n",
    "        pres=min(e)\n",
    "        i=i+1   \n",
    "    return pres\n",
    "bisectionPres(0,5)"
   ]
  },
  {
   "cell_type": "markdown",
   "metadata": {},
   "source": [
    "### Part 3) "
   ]
  },
  {
   "cell_type": "code",
   "execution_count": null,
   "metadata": {},
   "outputs": [],
   "source": [
    "def falsepos(x_l,x_u,pres):\n",
    "    x_r=0.0\n",
    "    x=[]\n",
    "    e=[]\n",
    "    n=[]\n",
    "    i=0\n",
    "    while i<100:\n",
    "        x_oldr=x_r\n",
    "        x_r=x_u-f(x_u)*(x_l-x_u)/(f(x_l)-f(x_u))         #false-position formula\n",
    "        if (x_r != 0.0):\n",
    "            ea=abs((x_r-x_oldr)/x_r)\n",
    "            n.append(i)\n",
    "            x.append(x_r)\n",
    "            e.append(ea)\n",
    "            test=f(x_l)*f(x_r)  #test to determine in which subinterval the root lies\n",
    "        if (test<0.0):\n",
    "            x_u=x_r\n",
    "        elif (test>0.0):\n",
    "            x_l=x_r\n",
    "        else:\n",
    "            ea=0.0\n",
    "        if (ea<pres):\n",
    "            break\n",
    "        i=i+1\n",
    "    return n,x,e"
   ]
  },
  {
   "cell_type": "markdown",
   "metadata": {},
   "source": [
    "In this case, the lower point is 0 and upper bound is 5. The difference of false-position method from bisection method is that it takes into account the values of $f(x_l)$ and $f(x_u)$ which can be very important.\n",
    "We can also define three possible conditions \n",
    "if $f(x_l)f(x_r)<0$, $x_u=x_r$; \n",
    "if $f(x_l)f(x_r)>0$, $x_l=x_r$, $f(x_l)f(x_r)=0$, we found the root. However, we apply slightly different formula: $x_r=x_u-\\frac{f(x_u)(x_l-x_u)}{f(x_l)-f(x_u)}$\n",
    "It can be seen that in order to obtain the result in $10^{-10}$ precision, we need 12 iterations."
   ]
  },
  {
   "cell_type": "markdown",
   "metadata": {},
   "source": [
    "In order to calculate the maximum precision that can be achieved with False-point position method, we will declare the error to be less than $1*10^{-16}$ since Python can show 16 digits after decimal point. The result was achieved by finding the minimum value of the error in the list. So, it turned out that it is equal to $1.492*10^{-16}$"
   ]
  },
  {
   "cell_type": "code",
   "execution_count": 7,
   "metadata": {},
   "outputs": [],
   "source": [
    "def falseposPres(x_l,x_u):     #finds maximum precision\n",
    "    x_r=0.0\n",
    "    x=[]\n",
    "    e=[]\n",
    "    n=[]\n",
    "    i=0\n",
    "    while i<100:\n",
    "        x_oldr=x_r\n",
    "        x_r=x_u-f(x_u)*(x_l-x_u)/(f(x_l)-f(x_u))         #false-position formula\n",
    "        if (x_r != 0.0):\n",
    "            ea=abs((x_r-x_oldr)/x_r)\n",
    "            n.append(i)\n",
    "            x.append(x_r)\n",
    "            e.append(ea)\n",
    "            test=f(x_l)*f(x_r)   #test to determine in which subinterval the root lies\n",
    "        if (test<0.0):\n",
    "            x_u=x_r\n",
    "        elif (test>0.0):\n",
    "            x_l=x_r\n",
    "        else:\n",
    "            ea=0.0\n",
    "        if (ea<1e-16):\n",
    "            break\n",
    "        pres=min(e)\n",
    "        i=i+1\n",
    "    return pres"
   ]
  },
  {
   "cell_type": "markdown",
   "metadata": {},
   "source": [
    "### Part 4)"
   ]
  },
  {
   "cell_type": "code",
   "execution_count": 7,
   "metadata": {
    "scrolled": true
   },
   "outputs": [],
   "source": [
    "def fixpoint(x_i,pres):\n",
    "    x_r=x_i\n",
    "    x=[]\n",
    "    e=[]\n",
    "    n=[]\n",
    "    i=0\n",
    "    while i<100:\n",
    "        x_oldr=x_r\n",
    "        x_r=g(x_oldr)   #iterative formula\n",
    "        if (x_r!=0):\n",
    "            ea=abs((x_r-x_oldr)/x_r)\n",
    "            n.append(i)\n",
    "            x.append(x_r)\n",
    "            e.append(ea)\n",
    "        if (ea<pres):\n",
    "            break\n",
    "        i=i+1\n",
    "    return n,x,e"
   ]
  },
  {
   "cell_type": "markdown",
   "metadata": {},
   "source": [
    "In this case, since it is an open method, we have to set up an initial guess which is equal to 1. By applying the following rule:\n",
    "$f(x_r)=0 => x_{i+1}=g(x_i)$. It is based on iterative computations of new estimates.\n",
    "It can be seen that in order to obtain the result in $10^{-10}$ precision, we need 11 iterations."
   ]
  },
  {
   "cell_type": "markdown",
   "metadata": {},
   "source": [
    "In order to calculate the maximum precision that can be achieved with Fixed-point iteration method, we will declare the error to be less than $1*10^{-16}$ since Python can show 16 digits after decimal point. The result was achieved by finding the minimum value of the error in the list. So, it turned out that it is equal to $1.492*10^{-16}$. And it was almost the same as the max.precision by False-point position method up to some precision. "
   ]
  },
  {
   "cell_type": "code",
   "execution_count": 8,
   "metadata": {},
   "outputs": [],
   "source": [
    "def fixpointPres(x_i):      #finds maximum precision\n",
    "    x_r=x_i\n",
    "    x=[]\n",
    "    e=[]\n",
    "    n=[]\n",
    "    i=0\n",
    "    while i<100:\n",
    "        x_oldr=x_r\n",
    "        x_r=g(x_oldr)        #iterative formula\n",
    "        if (x_r!=0):\n",
    "            ea=abs((x_r-x_oldr)/x_r)\n",
    "            n.append(i)\n",
    "            x.append(x_r)\n",
    "            e.append(ea)\n",
    "        if (ea<1e-16):\n",
    "            break\n",
    "        pres=min(e)\n",
    "        i=i+1\n",
    "    return pres"
   ]
  },
  {
   "cell_type": "markdown",
   "metadata": {},
   "source": [
    "### Part 5) "
   ]
  },
  {
   "cell_type": "code",
   "execution_count": 10,
   "metadata": {},
   "outputs": [],
   "source": [
    "def newtonraphson(x_i,pres):\n",
    "    x_r=x_i\n",
    "    n=[]\n",
    "    x=[]\n",
    "    e=[]\n",
    "    i=0\n",
    "    while i<100:\n",
    "        x_oldr=x_r\n",
    "        x_r=x_oldr-f(x_oldr)/df(x_oldr)   #Newton-Raphson formula\n",
    "        if (x_r!=0):\n",
    "            ea=abs((x_r-x_oldr)/x_r)\n",
    "            n.append(i)\n",
    "            x.append(x_r)\n",
    "            e.append(ea)\n",
    "        if (ea<pres):\n",
    "            break\n",
    "        i=i+1\n",
    "    return n,x,e"
   ]
  },
  {
   "cell_type": "markdown",
   "metadata": {},
   "source": [
    "In this case, since it is an open method, we have to set up an initial guess which is equal to 1. By applying the following rule:\n",
    "$x_{i+1}=x_i-\\frac{f(x_i)}{df(x_i)}$. This formula can be obtained by finding the slope of the function at a particular point. \n",
    "It can be seen that in order to obtain the result in $10^{-10}$ precision, we need 6 iterations."
   ]
  },
  {
   "cell_type": "markdown",
   "metadata": {},
   "source": [
    "In order to calculate the maximum precision that can be achieved with Newton-Raphson method, we will declare the error to be less than $1*10^{-16}$ since Python can show 16 digits after decimal point. It was estimated by finding the minimum value of the error in the list. So, it turned out that it is equal to $8.644*10^{-9}$.\n",
    "\n",
    "As we can see that the maximum precision that can be reached with Newton-Raphson method is much higher than other three methods. This may indicate the quadratic convergence of Newton-Raphson method. "
   ]
  },
  {
   "cell_type": "code",
   "execution_count": 5,
   "metadata": {},
   "outputs": [],
   "source": [
    "def newtonraphsonPres(x_i):   #finds maximum precision\n",
    "    x_r=x_i\n",
    "    n=[]\n",
    "    x=[]\n",
    "    e=[]\n",
    "    i=0\n",
    "    while i<100:\n",
    "        x_oldr=x_r\n",
    "        x_r=x_oldr-f(x_oldr)/df(x_oldr)     #Newton-Raphson formula\n",
    "        if (x_r!=0):\n",
    "            ea=abs((x_r-x_oldr)/x_r)\n",
    "            n.append(i)\n",
    "            x.append(x_r)\n",
    "            e.append(ea)\n",
    "        if (ea<1e-16):\n",
    "            break\n",
    "        pres=min(e)\n",
    "        i=i+1\n",
    "    return pres"
   ]
  },
  {
   "cell_type": "markdown",
   "metadata": {},
   "source": [
    "### Part 6) "
   ]
  },
  {
   "cell_type": "code",
   "execution_count": 12,
   "metadata": {
    "scrolled": false
   },
   "outputs": [
    {
     "data": {
      "image/png": "[encoded data removed]",
      "text/plain": [
       "<matplotlib.figure.Figure at 0x259af34f2e8>"
      ]
     },
     "metadata": {
      "image/png": {
       "height": 268,
       "width": 404
      }
     },
     "output_type": "display_data"
    }
   ],
   "source": [
    "i1,x1,e1=bisection(0,5,1e-10)\n",
    "i2,x2,e2=falsepos(0,5,1e-10)\n",
    "i3,x3,e3=fixpoint(1,1e-10)\n",
    "i4,x4,e4=newtonraphson(1,1e-10)\n",
    "\n",
    "plt.plot(i1,e1,label=\"Bisection\")\n",
    "plt.plot(i2,e2,label=\"Falsepos\")\n",
    "plt.plot(i3,e3,label=\"Fixpoint\")\n",
    "plt.plot(i4,e4,label=\"NewtonRaphson\") \n",
    "\n",
    "plt.legend()\n",
    "plt.xlabel(\"Iteration number\", size=15) \n",
    "plt.ylabel(\"Error\",size=15)\n",
    "plt.yscale('log')\n",
    "plt.grid()\n",
    "plt.show()"
   ]
  },
  {
   "cell_type": "markdown",
   "metadata": {},
   "source": [
    "### Part 7) "
   ]
  },
  {
   "cell_type": "markdown",
   "metadata": {},
   "source": [
    "The above graph of the error as a function of iteration number presents the information about the convergence of the solution.\n",
    "\n",
    "For Bisection method:\n",
    "If we calculate number of iterations that we need to have to obtain precision $10^{-10}$ theoretically:\n",
    "                             $$n=log_2(\\frac{\\delta(x^0)}{E_{a,d}})$$\n",
    "We get around 35 iterations which is close to the value that we have.\n",
    "And it is a linear convergent.\n",
    "\n",
    "For False-position method:\n",
    "It is somewhat more efficient than bisection method and also linearly converges to the solution. However, there are some cases where it very slowly converges. Because, one of the bracketing points may stay fixed which can lead to poor convergence. \n",
    "\n",
    "For Fixed-point iteration method:\n",
    "It is said to be linearly convergent which is also can be seen from the graph. Moreover, theoretically we say that the error decreases when $$|dg(x)|<1$$ If we plot the graph of derivative of $g(x)$:"
   ]
  },
  {
   "cell_type": "code",
   "execution_count": 13,
   "metadata": {},
   "outputs": [
    {
     "data": {
      "image/png": "[encoded data removed]",
      "text/plain": [
       "<matplotlib.figure.Figure at 0x259af2b2b00>"
      ]
     },
     "metadata": {
      "image/png": {
       "height": 268,
       "width": 400
      }
     },
     "output_type": "display_data"
    }
   ],
   "source": [
    "x=np.arange(1,6,1)\n",
    "plt.plot(x,dg(x),label=\"dg(x)\")\n",
    "plt.xlabel(\"x\",size=15)\n",
    "plt.ylabel(\"g'(x)\",size=15)\n",
    "plt.legend()\n",
    "plt.grid()\n",
    "plt.show()"
   ]
  },
  {
   "cell_type": "markdown",
   "metadata": {},
   "source": [
    "From the above graph of the derivatie function of g(x), we can see that $|g'(x)|$ is less than 1. And by the formula:\n",
    "$$E_{t, i+1}=g'*E_{t,i}$$ we can see that error is indeed decreasing. "
   ]
  },
  {
   "cell_type": "markdown",
   "metadata": {},
   "source": [
    "For Newton-Raphson method:\n",
    "The graph of error suggests that the error should decrease quadratically. Moreover, it also can be seen from the formula:\n",
    "$$E_{t,i+1}=-\\frac{f\"(x_r)}{2f'(x_r)}*E_{t,i}^2$$\n",
    "It means that error is roughly proportional to the square of the previous error. And number of correct decimal places roughly doubles with each iteration. This may lead to the fact that it does not require too much iterations to reach convergence. "
   ]
  },
  {
   "cell_type": "markdown",
   "metadata": {},
   "source": [
    "### Part 9) "
   ]
  },
  {
   "cell_type": "code",
   "execution_count": 14,
   "metadata": {},
   "outputs": [
    {
     "name": "stdout",
     "output_type": "stream",
     "text": [
      "332 µs ± 41.1 µs per loop (mean ± std. dev. of 7 runs, 1000 loops each)\n"
     ]
    }
   ],
   "source": [
    "%timeit     i1,x1,e1=bisection(0,5,1e-10)"
   ]
  },
  {
   "cell_type": "code",
   "execution_count": 15,
   "metadata": {},
   "outputs": [
    {
     "name": "stdout",
     "output_type": "stream",
     "text": [
      "302 µs ± 3.4 µs per loop (mean ± std. dev. of 7 runs, 1000 loops each)\n"
     ]
    }
   ],
   "source": [
    "%timeit     i2,x2,e2=falsepos(0,5,1e-10)"
   ]
  },
  {
   "cell_type": "code",
   "execution_count": 16,
   "metadata": {},
   "outputs": [
    {
     "name": "stdout",
     "output_type": "stream",
     "text": [
      "61.8 µs ± 381 ns per loop (mean ± std. dev. of 7 runs, 10000 loops each)\n"
     ]
    }
   ],
   "source": [
    "%timeit     i3,x3,e3=fixpoint(1,1e-10)"
   ]
  },
  {
   "cell_type": "code",
   "execution_count": 17,
   "metadata": {},
   "outputs": [
    {
     "name": "stdout",
     "output_type": "stream",
     "text": [
      "75.3 µs ± 5.16 µs per loop (mean ± std. dev. of 7 runs, 10000 loops each)\n"
     ]
    }
   ],
   "source": [
    "%timeit     i4,x4,e4=newtonraphson(1,1e-10)"
   ]
  },
  {
   "cell_type": "markdown",
   "metadata": {},
   "source": [
    "By the calculation above, we can see that Fixed-point iteration was faster. While two bracketing methods were slower. However, the time to converge can be improved by changing the initial guesses and brackets. Because, in fact the speed of the methods depends on intial guesses. For instance, if we take the interval from 2.5 to 3.5 and initial guess to 2.5, they will converge faster. It can be demonstrated as follows by using these new guesses:"
   ]
  },
  {
   "cell_type": "code",
   "execution_count": 18,
   "metadata": {},
   "outputs": [
    {
     "name": "stdout",
     "output_type": "stream",
     "text": [
      "286 µs ± 4.18 µs per loop (mean ± std. dev. of 7 runs, 1000 loops each)\n"
     ]
    }
   ],
   "source": [
    "%timeit     i1,x1,e1=bisection(2.5,3.5,1e-10)"
   ]
  },
  {
   "cell_type": "code",
   "execution_count": 19,
   "metadata": {},
   "outputs": [
    {
     "name": "stdout",
     "output_type": "stream",
     "text": [
      "197 µs ± 13.5 µs per loop (mean ± std. dev. of 7 runs, 10000 loops each)\n"
     ]
    }
   ],
   "source": [
    "%timeit     i2,x2,e2=falsepos(2.5,3.5,1e-10)"
   ]
  },
  {
   "cell_type": "code",
   "execution_count": 20,
   "metadata": {},
   "outputs": [
    {
     "name": "stdout",
     "output_type": "stream",
     "text": [
      "58.1 µs ± 2.9 µs per loop (mean ± std. dev. of 7 runs, 10000 loops each)\n"
     ]
    }
   ],
   "source": [
    "%timeit     i3,x3,e3=fixpoint(2.5,1e-10)"
   ]
  },
  {
   "cell_type": "code",
   "execution_count": 21,
   "metadata": {},
   "outputs": [
    {
     "name": "stdout",
     "output_type": "stream",
     "text": [
      "47.9 µs ± 184 ns per loop (mean ± std. dev. of 7 runs, 10000 loops each)\n"
     ]
    }
   ],
   "source": [
    "%timeit     i4,x4,e4=newtonraphson(2.5,1e-10)"
   ]
  },
  {
   "cell_type": "markdown",
   "metadata": {},
   "source": [
    "However, by above calculated computation time, we can see that Newton-Raphson method was faster. It might be because of the fact that the closest initial guess was taken."
   ]
  },
  {
   "cell_type": "markdown",
   "metadata": {},
   "source": [
    "                                                    Conclusion:\n",
    "Finally, the objectives of the experiment were achieved and the value of the root was estimated through various approaches. \n",
    "By analyzing all the data and graphs, we can say that Newton-Raphson method was faster and computationally efficient. The reason for that is it generally requires less iterations to reach the given precision. Due to the fact that error in Bisection method decreased very slowly, it was the slowest one among other methods. Overall, bracketing(bisection, false-position) methods are slower and always converge to the root, while open(fixed-point iteration, Newton-Raphson) methods are faster and sometimes they fail to converge to the root. \n",
    "However, it is also important to note that the initial guesses are very important and they definitely affect the speed of convergence. "
   ]
  }
 ],
 "metadata": {
  "kernelspec": {
   "display_name": "Python 3",
   "language": "python",
   "name": "python3"
  },
  "language_info": {
   "codemirror_mode": {
    "name": "ipython",
    "version": 3
   },
   "file_extension": ".py",
   "mimetype": "text/x-python",
   "name": "python",
   "nbconvert_exporter": "python",
   "pygments_lexer": "ipython3",
   "version": "3.9.1"
  }
 },
 "nbformat": 4,
 "nbformat_minor": 2
}
